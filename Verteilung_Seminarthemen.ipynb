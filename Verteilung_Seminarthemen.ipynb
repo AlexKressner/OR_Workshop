{
  "nbformat": 4,
  "nbformat_minor": 0,
  "metadata": {
    "colab": {
      "provenance": [],
      "authorship_tag": "ABX9TyOMlKJIfGykzTdiOmykBDrn",
      "include_colab_link": true
    },
    "kernelspec": {
      "name": "python3",
      "display_name": "Python 3"
    },
    "language_info": {
      "name": "python"
    }
  },
  "cells": [
    {
      "cell_type": "markdown",
      "metadata": {
        "id": "view-in-github",
        "colab_type": "text"
      },
      "source": [
        "<a href=\"https://colab.research.google.com/github/AlexKressner/OR_Workshop/blob/main/Verteilung_Seminarthemen.ipynb\" target=\"_parent\"><img src=\"https://colab.research.google.com/assets/colab-badge.svg\" alt=\"Open In Colab\"/></a>"
      ]
    },
    {
      "cell_type": "markdown",
      "metadata": {
        "id": "b2fc884d"
      },
      "source": [
        "# Verteilung Seminarthemen"
      ]
    },
    {
      "cell_type": "code",
      "execution_count": 41,
      "metadata": {
        "id": "cdb29647",
        "colab": {
          "base_uri": "https://localhost:8080/"
        },
        "outputId": "5ea94e0a-cb26-42dc-bccb-6198519baccf"
      },
      "outputs": [
        {
          "output_type": "stream",
          "name": "stdout",
          "text": [
            "\u001b[33mWARNING: Running pip as the 'root' user can result in broken permissions and conflicting behaviour with the system package manager. It is recommended to use a virtual environment instead: https://pip.pypa.io/warnings/venv\u001b[0m\u001b[33m\n",
            "\u001b[0m\u001b[33mWARNING: Running pip as the 'root' user can result in broken permissions and conflicting behaviour with the system package manager. It is recommended to use a virtual environment instead: https://pip.pypa.io/warnings/venv\u001b[0m\u001b[33m\n",
            "\u001b[0m"
          ]
        }
      ],
      "source": [
        "# Notwendigen Programminstallationen\n",
        "# pip als Paketmanager\n",
        "!pip install -U -q pip\n",
        "!pip install -q ortools\n",
        "# Laden des Programms\n",
        "from ortools.linear_solver import pywraplp"
      ]
    },
    {
      "cell_type": "code",
      "execution_count": 42,
      "metadata": {
        "id": "d8c0c7cc"
      },
      "outputs": [],
      "source": [
        "# Solver mit SCIP als Backend.\n",
        "# SCIP implementiert Simplex, Branch-and-Bound, etc\n",
        "solver = pywraplp.Solver.CreateSolver('SCIP')"
      ]
    },
    {
      "cell_type": "markdown",
      "metadata": {
        "id": "798a67ee"
      },
      "source": [
        "## Indexmengen"
      ]
    },
    {
      "cell_type": "code",
      "execution_count": 43,
      "metadata": {
        "id": "f9e0fd6f"
      },
      "outputs": [],
      "source": [
        "I = ['S1','S2','S3','S4'] # Menge der Studierenden\n",
        "J = ['B1','B2','B3'] # Menge der Betreuer"
      ]
    },
    {
      "cell_type": "code",
      "source": [
        "J"
      ],
      "metadata": {
        "colab": {
          "base_uri": "https://localhost:8080/"
        },
        "id": "HCzIMX68zF6g",
        "outputId": "a5fee92b-9644-4e67-dc22-c171d67955ab"
      },
      "execution_count": 44,
      "outputs": [
        {
          "output_type": "execute_result",
          "data": {
            "text/plain": [
              "['B1', 'B2', 'B3']"
            ]
          },
          "metadata": {},
          "execution_count": 44
        }
      ]
    },
    {
      "cell_type": "markdown",
      "metadata": {
        "id": "d1f9cf18"
      },
      "source": [
        "## Entscheidungsvariablen"
      ]
    },
    {
      "cell_type": "code",
      "execution_count": 45,
      "metadata": {
        "id": "f874ee25"
      },
      "outputs": [],
      "source": [
        "infinity = solver.infinity()"
      ]
    },
    {
      "cell_type": "code",
      "execution_count": 46,
      "metadata": {
        "id": "afb847d3",
        "colab": {
          "base_uri": "https://localhost:8080/"
        },
        "outputId": "149f6c43-8d08-4efd-89a1-803627a679ff"
      },
      "outputs": [
        {
          "output_type": "stream",
          "name": "stdout",
          "text": [
            "Anzahl Entscheidungsvariablen = 12\n"
          ]
        }
      ],
      "source": [
        "# Definition der Entscheidungsvariablen\n",
        "X={}\n",
        "for i in I:\n",
        "  for j in J: \n",
        "      X[i,j] = solver.BoolVar(f\"{i},{j}\")\n",
        "print('Anzahl Entscheidungsvariablen =', solver.NumVariables())"
      ]
    },
    {
      "cell_type": "markdown",
      "metadata": {
        "id": "b99b4ca0"
      },
      "source": [
        "## Parameter"
      ]
    },
    {
      "cell_type": "code",
      "execution_count": 47,
      "metadata": {
        "id": "8c26d910"
      },
      "outputs": [],
      "source": [
        "p={} # Präferenzen\n",
        "p['S1']={'B1':2, 'B2':9, 'B3':7}\n",
        "p['S2']={'B1':2, 'B2':10, 'B3':7}\n",
        "p['S3']={'B1':4, 'B2':10, 'B3':8}\n",
        "p['S4']={'B1':6, 'B2':9, 'B3':9}"
      ]
    },
    {
      "cell_type": "code",
      "execution_count": 48,
      "metadata": {
        "id": "4fe37ab3"
      },
      "outputs": [],
      "source": [
        "b={} # Kapazitäten\n",
        "b['B1']=2\n",
        "b['B2']=1\n",
        "b['B3']=2"
      ]
    },
    {
      "cell_type": "code",
      "execution_count": 48,
      "metadata": {
        "id": "116263d8"
      },
      "outputs": [],
      "source": []
    },
    {
      "cell_type": "markdown",
      "metadata": {
        "id": "c9eede10"
      },
      "source": [
        "## Zielfunktion"
      ]
    },
    {
      "cell_type": "code",
      "source": [
        "p"
      ],
      "metadata": {
        "colab": {
          "base_uri": "https://localhost:8080/"
        },
        "id": "C4LTlh0Gvjwy",
        "outputId": "a3fc6394-3a40-4f13-ef50-db0805d78ab2"
      },
      "execution_count": 49,
      "outputs": [
        {
          "output_type": "execute_result",
          "data": {
            "text/plain": [
              "{'S1': {'B1': 2, 'B2': 9, 'B3': 7},\n",
              " 'S2': {'B1': 2, 'B2': 10, 'B3': 7},\n",
              " 'S3': {'B1': 4, 'B2': 10, 'B3': 8},\n",
              " 'S4': {'B1': 6, 'B2': 9, 'B3': 9}}"
            ]
          },
          "metadata": {},
          "execution_count": 49
        }
      ]
    },
    {
      "cell_type": "code",
      "execution_count": 50,
      "metadata": {
        "id": "954d02bf"
      },
      "outputs": [],
      "source": [
        "# Maximierung der gesamten Deckungsbeiträge\n",
        "solver.Maximize(sum(p[i][j]*X[i,j] for i in I for j in J))"
      ]
    },
    {
      "cell_type": "markdown",
      "metadata": {
        "id": "a8534816"
      },
      "source": [
        "## Nebenbedingungen"
      ]
    },
    {
      "cell_type": "code",
      "source": [
        "for i in I:\n",
        "    solver.Add(sum(X[i,j] for j in J)==1)"
      ],
      "metadata": {
        "id": "-ho3qFdInwQ8"
      },
      "execution_count": 51,
      "outputs": []
    },
    {
      "cell_type": "code",
      "execution_count": 52,
      "metadata": {
        "id": "9accd7c3",
        "colab": {
          "base_uri": "https://localhost:8080/"
        },
        "outputId": "5ec6b6df-bcf8-4794-97e3-39096ee49191"
      },
      "outputs": [
        {
          "output_type": "stream",
          "name": "stdout",
          "text": [
            "Anzahl Nebenbedingungen = 7\n"
          ]
        }
      ],
      "source": [
        "for j in J:\n",
        "    solver.Add(sum(X[i,j] for i in I)<=b[j])\n",
        "print('Anzahl Nebenbedingungen =', solver.NumConstraints())"
      ]
    },
    {
      "cell_type": "markdown",
      "metadata": {
        "id": "9a459618"
      },
      "source": [
        "## Berechnung Lösung"
      ]
    },
    {
      "cell_type": "code",
      "execution_count": 53,
      "metadata": {
        "id": "b9005832",
        "colab": {
          "base_uri": "https://localhost:8080/"
        },
        "outputId": "a0279492-3d48-4481-95dd-c07c43f58433"
      },
      "outputs": [
        {
          "output_type": "stream",
          "name": "stdout",
          "text": [
            "LÖSUNG:\n",
            "Zielfunktionswert (Präferenz) = 31.0\n",
            "B1 = 0\n",
            "B2 = 0\n",
            "B3 = 1\n",
            "B1 = 0\n",
            "B2 = 1\n",
            "B3 = 0\n",
            "B1 = 0\n",
            "B2 = 0\n",
            "B3 = 1\n",
            "B1 = 1\n",
            "B2 = 0\n",
            "B3 = 0\n"
          ]
        }
      ],
      "source": [
        "status = solver.Solve()\n",
        "\n",
        "if status == pywraplp.Solver.OPTIMAL:\n",
        "    print('LÖSUNG:')\n",
        "    print('Zielfunktionswert (Präferenz) =', solver.Objective().Value())\n",
        "    for i in I:\n",
        "      for j in J:\n",
        "          print(f'{j} =', round(X[i,j].solution_value()))\n",
        "else:\n",
        "    print('Problem hat keine Lösung')"
      ]
    },
    {
      "cell_type": "code",
      "execution_count": 53,
      "metadata": {
        "id": "4d84da39"
      },
      "outputs": [],
      "source": []
    }
  ]
}