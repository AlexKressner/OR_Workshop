{
  "nbformat": 4,
  "nbformat_minor": 0,
  "metadata": {
    "colab": {
      "provenance": [],
      "authorship_tag": "ABX9TyMEAAs83gLhs0Qaekxa1eXh",
      "include_colab_link": true
    },
    "kernelspec": {
      "name": "python3",
      "display_name": "Python 3"
    },
    "language_info": {
      "name": "python"
    }
  },
  "cells": [
    {
      "cell_type": "markdown",
      "metadata": {
        "id": "view-in-github",
        "colab_type": "text"
      },
      "source": [
        "<a href=\"https://colab.research.google.com/github/AlexKressner/OR_Workshop/blob/main/Verbindung_Drive_Notebook.ipynb\" target=\"_parent\"><img src=\"https://colab.research.google.com/assets/colab-badge.svg\" alt=\"Open In Colab\"/></a>"
      ]
    },
    {
      "cell_type": "markdown",
      "metadata": {
        "id": "b2fc884d"
      },
      "source": [
        "# Daten aus Google Drive in Notebook laden, Bsp."
      ]
    },
    {
      "cell_type": "code",
      "execution_count": null,
      "metadata": {
        "id": "cdb29647"
      },
      "outputs": [],
      "source": [
        "import pandas as pd\n",
        "from google.colab import drive"
      ]
    },
    {
      "cell_type": "markdown",
      "source": [
        "1.   Problemrelevante Daten in Google-Drive laden\n",
        "2.   Google-Drive mit Colab-Notebook verbinden\n",
        "3.   Daten mit `pandas` laden"
      ],
      "metadata": {
        "id": "gcZlzeQiKLu5"
      }
    },
    {
      "cell_type": "code",
      "source": [
        "drive.mount('/content/drive')"
      ],
      "metadata": {
        "id": "xl7V7Z7bKLNP"
      },
      "execution_count": null,
      "outputs": []
    },
    {
      "cell_type": "code",
      "source": [
        "# Relevanten Ordner finden, in dem die Datei abgelegt wurde\n",
        "# Der Vorsatz \"drive/MyDrive/\" ist immer gleich. Danach folgt die invididuelle Struktur des Drives\n",
        "! ls drive/MyDrive/OR_Workshop/Daten"
      ],
      "metadata": {
        "id": "dch0P-IxKRpr"
      },
      "execution_count": null,
      "outputs": []
    },
    {
      "cell_type": "code",
      "source": [
        "# ggf. Pfad zurückgeben und kopieren \n",
        "! cd drive/MyDrive/OR_Workshop/Daten && pwd"
      ],
      "metadata": {
        "id": "DrGWNlbVKXz8"
      },
      "execution_count": null,
      "outputs": []
    },
    {
      "cell_type": "code",
      "source": [
        "path = \"/content/drive/MyDrive/OR_Workshop/Daten\""
      ],
      "metadata": {
        "id": "Q6DqkyXTKjj1"
      },
      "execution_count": null,
      "outputs": []
    },
    {
      "cell_type": "code",
      "source": [
        "orders = pd.read_csv(f\"{path}/Spediteur.csv\", sep=\";\", decimal=\",\")"
      ],
      "metadata": {
        "id": "UTx5l4G1KlJd"
      },
      "execution_count": null,
      "outputs": []
    }
  ]
}